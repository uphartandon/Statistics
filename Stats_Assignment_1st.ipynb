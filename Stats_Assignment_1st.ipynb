{
 "cells": [
  {
   "cell_type": "markdown",
   "id": "c5da8920",
   "metadata": {},
   "source": [
    "1. What exactly is the difference between descriptive and inferential statistics?\n",
    "\n",
    "Ans: Descriptive statistics consist of organising and summarising the data, while on the other hand inferntial statistics bascially deals with findind out the conclustion or inferences from the collection of data. \n",
    "\n",
    "Descriptive statistics examples are: Measure of central tendency i.e. Mean, Median mode or Meausre of dispersion i.e. Variance, Standard deviation.\n",
    "Inferential statistics example : Z-Test etc.\n",
    "\n",
    "2. I'm not sure what is the difference between a sample and a population?\n",
    "\n",
    "Ans: A population(N) the entire group that you want to draw conclusions about. A sample(n) the specific group that you will collect data from. The size of the sample is always less than the total size of the population.\n",
    "\n",
    "3. What distinguishes descriptive statistics from other types of statistics?\n",
    "Ans:Descriptive statistics focus on describing the visible characteristics of a dataset (a population or sample). Meanwhile, inferential statistics focus on making predictions or generalizations about a larger dataset, based on a sample of those data.\n",
    "\n",
    "4. What is the difference between quantitative and qualitative data?\n",
    "\n",
    "Ans: Quantitative data are measures of values or counts and are expressed as numbers.Quantitative data are data about numeric variables (e.g. how many; how much; or how often). On the other hand, Qualitative data are measures of 'types' and may be represented by a name, symbol, or a number code. Qualitative data are data about categorical variables (e.g. what type).\n",
    "\n",
    "5. What is the definition of a percentile?\n",
    "Ans: A percentile is a value below which a cerntain percentage of Observation lie. \n",
    "    Percentile can be calculated using below expression:\n",
    "    percentile rank of nth value is = ( number of observations below n/n(value of n)*100\n"
   ]
  }
 ],
 "metadata": {
  "kernelspec": {
   "display_name": "Python 3 (ipykernel)",
   "language": "python",
   "name": "python3"
  },
  "language_info": {
   "codemirror_mode": {
    "name": "ipython",
    "version": 3
   },
   "file_extension": ".py",
   "mimetype": "text/x-python",
   "name": "python",
   "nbconvert_exporter": "python",
   "pygments_lexer": "ipython3",
   "version": "3.9.7"
  }
 },
 "nbformat": 4,
 "nbformat_minor": 5
}
